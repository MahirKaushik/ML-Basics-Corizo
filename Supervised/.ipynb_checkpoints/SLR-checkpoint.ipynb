{
 "cells": [
  {
   "cell_type": "code",
   "execution_count": 1,
   "id": "98b4e36a",
   "metadata": {},
   "outputs": [],
   "source": [
    "import numpy as np\n",
    "import matplotlib as plt\n",
    "from sklearn.linear_model import LinearRegression"
   ]
  },
  {
   "cell_type": "code",
   "execution_count": 2,
   "id": "c44e5451",
   "metadata": {},
   "outputs": [
    {
     "name": "stdout",
     "output_type": "stream",
     "text": [
      "[[20]\n",
      " [25]\n",
      " [30]\n",
      " [35]\n",
      " [40]]\n"
     ]
    }
   ],
   "source": [
    "temp=[20,25,30,35,40]\n",
    "icesales=[13,21,25,35,38]\n",
    "\n",
    "X=np.array([temp]).T\n",
    "print(X)"
   ]
  },
  {
   "cell_type": "code",
   "execution_count": 3,
   "id": "6d4a8607",
   "metadata": {},
   "outputs": [],
   "source": [
    "Y=np.array(icesales)"
   ]
  },
  {
   "cell_type": "code",
   "execution_count": 4,
   "id": "f9ba7075",
   "metadata": {},
   "outputs": [],
   "source": [
    "model=LinearRegression()\n",
    "model=model.fit(X,Y)"
   ]
  },
  {
   "cell_type": "code",
   "execution_count": 5,
   "id": "004fa83f",
   "metadata": {},
   "outputs": [
    {
     "name": "stdout",
     "output_type": "stream",
     "text": [
      "[1.28]\n",
      "-12.000000000000007\n"
     ]
    }
   ],
   "source": [
    "Slope=model.coef_\n",
    "intercept=model.intercept_\n",
    "print(Slope)\n",
    "print(intercept)"
   ]
  },
  {
   "cell_type": "code",
   "execution_count": 6,
   "id": "96c86a14",
   "metadata": {},
   "outputs": [
    {
     "name": "stdout",
     "output_type": "stream",
     "text": [
      "[64.8]\n"
     ]
    }
   ],
   "source": [
    "predict=model.predict([[60]])\n",
    "print(predict)"
   ]
  }
 ],
 "metadata": {
  "kernelspec": {
   "display_name": "Python 3 (ipykernel)",
   "language": "python",
   "name": "python3"
  },
  "language_info": {
   "codemirror_mode": {
    "name": "ipython",
    "version": 3
   },
   "file_extension": ".py",
   "mimetype": "text/x-python",
   "name": "python",
   "nbconvert_exporter": "python",
   "pygments_lexer": "ipython3",
   "version": "3.13.3"
  }
 },
 "nbformat": 4,
 "nbformat_minor": 5
}
